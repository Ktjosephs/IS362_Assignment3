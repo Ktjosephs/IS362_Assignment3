{
 "cells": [
  {
   "cell_type": "markdown",
   "metadata": {},
   "source": [
    "## New York City to Key West, Florida\n",
    "\n",
    "## By Kimesha Josephs"
   ]
  },
  {
   "cell_type": "markdown",
   "metadata": {},
   "source": [
    "Suppose you have ridden a bicycle from New York City to Key West, Florida.  Your bicycle odometer shows the total miles, which you have dutifully logged at the end of each day with paper and pencil.  Your first two entries might be 55 and 120, indicating that you rode your bike 55 miles on day 1 and 65 miles on day 2.  Your task is to create a pandas Series object that holds the cumulative miles at the end of each day, then use your Python skills to show the total miles that you rode each day.  Consider how you should best present this information in a Jupyter notebook.  You should save your Jupyter Notebook to your GitHub repository, and provide a link in your assignment submission."
   ]
  },
  {
   "cell_type": "markdown",
   "metadata": {},
   "source": [
    "Import pandas and pprint so that output is in correct order."
   ]
  },
  {
   "cell_type": "code",
   "execution_count": 7,
   "metadata": {},
   "outputs": [],
   "source": [
    "import pandas as pd\n",
    "from pprint import pprint"
   ]
  },
  {
   "cell_type": "markdown",
   "metadata": {},
   "source": [
    "Create dictionary with miles logged"
   ]
  },
  {
   "cell_type": "code",
   "execution_count": 36,
   "metadata": {},
   "outputs": [
    {
     "name": "stdout",
     "output_type": "stream",
     "text": [
      "{'Day 1': 55,\n",
      " 'Day 2': 120,\n",
      " 'Day 3': 180,\n",
      " 'Day 4': 270,\n",
      " 'Day 5': 350,\n",
      " 'Day 6': 420,\n",
      " 'Day 7': 500,\n",
      " 'Day 8': 580,\n",
      " 'Day 9': 640}\n"
     ]
    }
   ],
   "source": [
    "odometer_reading = {}\n",
    "odometer_reading['Day 1'] = 55\n",
    "odometer_reading['Day 2'] = 120\n",
    "odometer_reading['Day 3'] = 180\n",
    "odometer_reading['Day 4'] = 270\n",
    "odometer_reading['Day 5'] = 350\n",
    "odometer_reading['Day 6'] = 420\n",
    "odometer_reading['Day 7'] = 500\n",
    "odometer_reading['Day 8'] = 580\n",
    "odometer_reading['Day 9'] = 640\n",
    "pprint (odometer_reading)"
   ]
  },
  {
   "cell_type": "markdown",
   "metadata": {},
   "source": [
    "Convert dictionary to a series"
   ]
  },
  {
   "cell_type": "code",
   "execution_count": 26,
   "metadata": {},
   "outputs": [
    {
     "name": "stdout",
     "output_type": "stream",
     "text": [
      "Day 1     55\n",
      "Day 2    120\n",
      "Day 3    180\n",
      "Day 4    270\n",
      "Day 5    350\n",
      "Day 6    420\n",
      "Day 7    500\n",
      "Day 8    580\n",
      "Day 9    640\n",
      "dtype: int64\n"
     ]
    }
   ],
   "source": [
    "odometer_reading = pd.Series(odometer_reading)\n",
    "print (odometer_reading)"
   ]
  },
  {
   "cell_type": "markdown",
   "metadata": {},
   "source": [
    "Calculate miles ridden per day based on the cumulative miles"
   ]
  },
  {
   "cell_type": "code",
   "execution_count": 33,
   "metadata": {},
   "outputs": [
    {
     "name": "stdout",
     "output_type": "stream",
     "text": [
      "Day 1: 55 miles\n",
      "Day 2: 65 miles\n",
      "Day 3: 60 miles\n",
      "Day 4: 90 miles\n",
      "Day 5: 80 miles\n",
      "Day 6: 70 miles\n",
      "Day 7: 80 miles\n",
      "Day 8: 80 miles\n",
      "Day 9: 60 miles\n"
     ]
    }
   ],
   "source": [
    "miles_ridden = {} \n",
    "previous_miles = 0\n",
    "\n",
    "for day, todays_miles in odometer.items():\n",
    "        \n",
    "    miles_logged = todays_miles - previous_miles\n",
    "\n",
    "    miles_ridden[day] = miles_logged\n",
    "    \n",
    "    print (day + ': ' + str(miles_logged) + ' miles')\n",
    "    \n",
    "    previous_miles = todays_miles"
   ]
  }
 ],
 "metadata": {
  "kernelspec": {
   "display_name": "Python 3",
   "language": "python",
   "name": "python3"
  },
  "language_info": {
   "codemirror_mode": {
    "name": "ipython",
    "version": 3
   },
   "file_extension": ".py",
   "mimetype": "text/x-python",
   "name": "python",
   "nbconvert_exporter": "python",
   "pygments_lexer": "ipython3",
   "version": "3.5.4"
  }
 },
 "nbformat": 4,
 "nbformat_minor": 2
}
